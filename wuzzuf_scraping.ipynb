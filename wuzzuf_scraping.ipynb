{
  "nbformat": 4,
  "nbformat_minor": 0,
  "metadata": {
    "colab": {
      "provenance": []
    },
    "kernelspec": {
      "name": "python3",
      "display_name": "Python 3"
    },
    "language_info": {
      "name": "python"
    }
  },
  "cells": [
    {
      "cell_type": "markdown",
      "source": [
        "# **Wuzzuf.net Scraping**"
      ],
      "metadata": {
        "id": "7cmzg_Ttz0g3"
      }
    },
    {
      "cell_type": "code",
      "execution_count": 97,
      "metadata": {
        "id": "2bkXG080zkH_"
      },
      "outputs": [],
      "source": [
        "# importing libraries\n",
        "import pandas as pd\n",
        "import numpy as np\n",
        "import matplotlib.pyplot as plt\n",
        "import seaborn as sns\n",
        "%matplotlib inline\n",
        "sns.set()"
      ]
    },
    {
      "cell_type": "code",
      "source": [
        "# libraries for scraping\n",
        "from bs4 import BeautifulSoup\n",
        "from urllib.request import urlopen"
      ],
      "metadata": {
        "id": "osSRN42L0iA8"
      },
      "execution_count": 98,
      "outputs": []
    },
    {
      "cell_type": "code",
      "source": [
        "# requied url\n",
        "url = 'https://wuzzuf.net/search/jobs/?q=data+analyst&a=hpb'"
      ],
      "metadata": {
        "id": "tJ0JYn1V0ies"
      },
      "execution_count": 99,
      "outputs": []
    },
    {
      "cell_type": "code",
      "source": [
        "client = urlopen(url)"
      ],
      "metadata": {
        "id": "QEfhuUJS0ihj"
      },
      "execution_count": 100,
      "outputs": []
    },
    {
      "cell_type": "code",
      "source": [
        "html = client.read()"
      ],
      "metadata": {
        "id": "nba-unBB0ilk"
      },
      "execution_count": 101,
      "outputs": []
    },
    {
      "cell_type": "code",
      "source": [
        "client.close()"
      ],
      "metadata": {
        "id": "moCY8WMs1lp9"
      },
      "execution_count": 102,
      "outputs": []
    },
    {
      "cell_type": "markdown",
      "source": [
        "## Creating the soup"
      ],
      "metadata": {
        "id": "XdEyemTG6Z3T"
      }
    },
    {
      "cell_type": "code",
      "source": [
        "soup = BeautifulSoup(html, 'lxml')"
      ],
      "metadata": {
        "id": "B2jLjWhC1ls7"
      },
      "execution_count": 103,
      "outputs": []
    },
    {
      "cell_type": "markdown",
      "source": [
        "## Getting the page title"
      ],
      "metadata": {
        "id": "pl-vF1qJ6fS7"
      }
    },
    {
      "cell_type": "code",
      "source": [
        "soup.find(\"title\").text"
      ],
      "metadata": {
        "colab": {
          "base_uri": "https://localhost:8080/",
          "height": 36
        },
        "id": "VtinlAgT1lvz",
        "outputId": "c647b539-b799-40d1-f206-53c51e1ae5b2"
      },
      "execution_count": 105,
      "outputs": [
        {
          "output_type": "execute_result",
          "data": {
            "text/plain": [
              "'Job Search | WUZZUF'"
            ],
            "application/vnd.google.colaboratory.intrinsic+json": {
              "type": "string"
            }
          },
          "metadata": {},
          "execution_count": 105
        }
      ]
    },
    {
      "cell_type": "markdown",
      "source": [
        "## Creating the containers"
      ],
      "metadata": {
        "id": "Qv6gi11o6lhL"
      }
    },
    {
      "cell_type": "code",
      "source": [
        "containers = soup.find_all(\"div\", {\"class\":\"css-1gatmva e1v1l3u10\"})"
      ],
      "metadata": {
        "id": "JeXsf1dD1lyi"
      },
      "execution_count": 106,
      "outputs": []
    },
    {
      "cell_type": "code",
      "source": [
        "len(containers)"
      ],
      "metadata": {
        "colab": {
          "base_uri": "https://localhost:8080/"
        },
        "id": "-DNO0jmL1l1T",
        "outputId": "d776b676-c596-4d94-ed53-3a936d526361"
      },
      "execution_count": 107,
      "outputs": [
        {
          "output_type": "execute_result",
          "data": {
            "text/plain": [
              "15"
            ]
          },
          "metadata": {},
          "execution_count": 107
        }
      ]
    },
    {
      "cell_type": "markdown",
      "source": [
        "### Accessing page elements"
      ],
      "metadata": {
        "id": "di3hfFAd69QF"
      }
    },
    {
      "cell_type": "code",
      "source": [
        "# Creating empty list to store jobs_details\n",
        "jobs = []"
      ],
      "metadata": {
        "id": "M7Lbk8k19kw3"
      },
      "execution_count": 108,
      "outputs": []
    },
    {
      "cell_type": "code",
      "source": [
        "for job in containers:\n",
        "  job_title = job.find(\"h2\", {'class':'css-m604qf'}).text\n",
        "  company_name = job.find(\"a\", {'class':'css-17s97q8'}).text[:-2]\n",
        "  company_location = job.find(\"span\", {'class':'css-5wys0k'}).text\n",
        "  job_type = job.find(\"span\",{'class':'css-1ve4b75 eoyjyou0'}).text\n",
        "  level = job.find('div', {'class':'css-y4udm8'}).find_all(\"a\", {'class':'css-o171kl'})[0].text\n",
        "  if level != 'Not specified':\n",
        "    experience = job.find('div', {'class':'css-y4udm8'}).find_all('div')[1].find(\"span\").text.replace('Yrs of Exp', \" \").replace('· ', \" \").strip()\n",
        "  else:\n",
        "    experience = None\n",
        "  job_details = {'Job_title':job_title, 'Company_name':company_name, 'Company_location':company_location, 'Job_type':job_type, 'Level':level, \"Years_of_exp\":experience}\n",
        "  jobs.append(job_details)\n",
        ""
      ],
      "metadata": {
        "id": "9u781nFs7DuH"
      },
      "execution_count": 109,
      "outputs": []
    },
    {
      "cell_type": "code",
      "source": [
        "df = pd.DataFrame(jobs)"
      ],
      "metadata": {
        "id": "-ykF5-XD7Dw2"
      },
      "execution_count": 110,
      "outputs": []
    },
    {
      "cell_type": "code",
      "source": [
        "df.to_excel('data_analyst_jobs.xlsx', index=False)"
      ],
      "metadata": {
        "id": "00fjdFjp7Dzu"
      },
      "execution_count": 111,
      "outputs": []
    },
    {
      "cell_type": "markdown",
      "source": [
        "# **Created by :**\n",
        "## Mohamed Ayman\n",
        "## **Contact us:** +20 1090443886"
      ],
      "metadata": {
        "id": "8yH5RCLdPrOn"
      }
    }
  ]
}